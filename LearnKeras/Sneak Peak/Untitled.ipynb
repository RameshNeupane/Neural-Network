{
 "cells": [
  {
   "cell_type": "code",
   "execution_count": 1,
   "metadata": {},
   "outputs": [],
   "source": [
    "import tensorflow as tf\n",
    "from tensorflow import keras"
   ]
  },
  {
   "cell_type": "code",
   "execution_count": 2,
   "metadata": {},
   "outputs": [
    {
     "data": {
      "text/plain": [
       "'2.4.0'"
      ]
     },
     "execution_count": 2,
     "metadata": {},
     "output_type": "execute_result"
    }
   ],
   "source": [
    "keras.__version__"
   ]
  },
  {
   "cell_type": "markdown",
   "metadata": {},
   "source": [
    "# Activation Function"
   ]
  },
  {
   "cell_type": "markdown",
   "metadata": {},
   "source": [
    "### Sigmoid Activation Function"
   ]
  },
  {
   "cell_type": "markdown",
   "metadata": {},
   "source": [
    "#### keras.activations.sigmoid(x)"
   ]
  },
  {
   "cell_type": "markdown",
   "metadata": {},
   "source": [
    "### ReLU Activation Function"
   ]
  },
  {
   "cell_type": "markdown",
   "metadata": {},
   "source": [
    "#### keras.activations.relu(x,alpha=0.0, max_value=None, threshold=0)"
   ]
  },
  {
   "cell_type": "markdown",
   "metadata": {},
   "source": [
    "### Leaky ReLU"
   ]
  },
  {
   "cell_type": "markdown",
   "metadata": {},
   "source": [
    "#### keras.layers.LeakyReLU(x, alpha = 0.0, max_value = None)"
   ]
  },
  {
   "cell_type": "markdown",
   "metadata": {},
   "source": [
    "# Model"
   ]
  },
  {
   "cell_type": "markdown",
   "metadata": {},
   "source": [
    "#### model = keras.Sequential()"
   ]
  },
  {
   "cell_type": "markdown",
   "metadata": {},
   "source": [
    "# Layers: Core Layers"
   ]
  },
  {
   "cell_type": "markdown",
   "metadata": {},
   "source": [
    "### Dense Layer"
   ]
  },
  {
   "cell_type": "code",
   "execution_count": 3,
   "metadata": {},
   "outputs": [],
   "source": [
    "# keras.layers.Dense(units, activation = None, use_bias = True,\n",
    "#                   kernel_initializer = 'glorot_uniform',\n",
    "#                   bias_initializer = 'zeros',\n",
    "#                   kernel_regulizer = None,\n",
    "#                   bias_regulizer = None,\n",
    "#                   activity_regulizer = None,\n",
    "#                   kernel_constraint = None,\n",
    "#                   bias_constraint = None)"
   ]
  },
  {
   "cell_type": "markdown",
   "metadata": {},
   "source": [
    "### Dropout Layer"
   ]
  },
  {
   "cell_type": "code",
   "execution_count": 4,
   "metadata": {},
   "outputs": [],
   "source": [
    "# keras.layers.Dropout(rate, noise_shape = None, seed = None)"
   ]
  },
  {
   "cell_type": "markdown",
   "metadata": {},
   "source": [
    "# Loss Funtions"
   ]
  },
  {
   "cell_type": "markdown",
   "metadata": {},
   "source": [
    "### Mean Squared Error"
   ]
  },
  {
   "cell_type": "code",
   "execution_count": 5,
   "metadata": {},
   "outputs": [],
   "source": [
    "# keras.losses.mean_squared_error(y_true, y_pred)"
   ]
  },
  {
   "cell_type": "markdown",
   "metadata": {},
   "source": [
    "### Mean Absolute Error"
   ]
  },
  {
   "cell_type": "code",
   "execution_count": 6,
   "metadata": {},
   "outputs": [],
   "source": [
    "# keras.losses.mean_absolute_error(y_true, y_pred)"
   ]
  },
  {
   "cell_type": "markdown",
   "metadata": {},
   "source": [
    "### Mean Absolute Precentage Error"
   ]
  },
  {
   "cell_type": "code",
   "execution_count": 7,
   "metadata": {},
   "outputs": [],
   "source": [
    "# keras.losses.mean_absolute_percentage_error(y_true, y_pred)"
   ]
  },
  {
   "cell_type": "markdown",
   "metadata": {},
   "source": [
    "### Mean Squared Logarthmic Error"
   ]
  },
  {
   "cell_type": "code",
   "execution_count": 8,
   "metadata": {},
   "outputs": [],
   "source": [
    "# keras.losses.mean_squared_logarithmic_error(y_true, y_pred)"
   ]
  },
  {
   "cell_type": "markdown",
   "metadata": {},
   "source": [
    "## Popular Choices for Losses for Categorical Outcomes"
   ]
  },
  {
   "cell_type": "markdown",
   "metadata": {},
   "source": [
    "### Binary Cross-entropy"
   ]
  },
  {
   "cell_type": "code",
   "execution_count": 9,
   "metadata": {},
   "outputs": [],
   "source": [
    "# keras.losses.binary_crossentropy(y_true, y_pred, from_logits=False, label_smoothing=0)"
   ]
  },
  {
   "cell_type": "markdown",
   "metadata": {},
   "source": [
    "### Categorical Cross-entropy"
   ]
  },
  {
   "cell_type": "code",
   "execution_count": 10,
   "metadata": {},
   "outputs": [],
   "source": [
    "# keras.losses.categorical_crossentropy(y_true, y_pred, from_logits=False, label_smoothing=0)"
   ]
  },
  {
   "cell_type": "markdown",
   "metadata": {},
   "source": [
    "# Optimizers"
   ]
  },
  {
   "cell_type": "markdown",
   "metadata": {},
   "source": [
    "### Stochastic Gradient Descent (SGD)"
   ]
  },
  {
   "cell_type": "code",
   "execution_count": 11,
   "metadata": {},
   "outputs": [],
   "source": [
    "# keras.optimizers.SGD(learning_rate=0.01, momentum=0.0, nesterov=False, decay = 0.0)"
   ]
  },
  {
   "cell_type": "markdown",
   "metadata": {},
   "source": [
    "### Adam"
   ]
  },
  {
   "cell_type": "code",
   "execution_count": 12,
   "metadata": {},
   "outputs": [],
   "source": [
    "# keras.optimizers.Adam(learning_rate=0.001, beta_1=0.9, beta_2=0.999, epsilon=1e-07,\n",
    "#                          amsgrad=False, decay = 0.0)"
   ]
  },
  {
   "cell_type": "markdown",
   "metadata": {},
   "source": [
    "### Adagrad"
   ]
  },
  {
   "cell_type": "markdown",
   "metadata": {},
   "source": [
    "### Adadelta"
   ]
  },
  {
   "cell_type": "markdown",
   "metadata": {},
   "source": [
    "### RMSProp"
   ]
  },
  {
   "cell_type": "markdown",
   "metadata": {},
   "source": [
    "### Adamax"
   ]
  },
  {
   "cell_type": "markdown",
   "metadata": {},
   "source": [
    "### Nadam"
   ]
  },
  {
   "cell_type": "code",
   "execution_count": null,
   "metadata": {},
   "outputs": [],
   "source": []
  },
  {
   "cell_type": "markdown",
   "metadata": {},
   "source": [
    "# Metrics"
   ]
  },
  {
   "cell_type": "markdown",
   "metadata": {},
   "source": [
    "### Binary Accuracy"
   ]
  },
  {
   "cell_type": "code",
   "execution_count": 13,
   "metadata": {},
   "outputs": [],
   "source": [
    "# keras.metrics.binary_accuracy(y_true, y_pred, threshold=0.5)"
   ]
  },
  {
   "cell_type": "markdown",
   "metadata": {},
   "source": [
    "### Categorical Accuracy"
   ]
  },
  {
   "cell_type": "code",
   "execution_count": 14,
   "metadata": {},
   "outputs": [],
   "source": [
    "# keras.metrics.categorical_accuracy(y_true, y_pred)"
   ]
  },
  {
   "cell_type": "markdown",
   "metadata": {},
   "source": [
    "### Sparse Categorical Accuracy"
   ]
  },
  {
   "cell_type": "code",
   "execution_count": 15,
   "metadata": {},
   "outputs": [],
   "source": [
    "# keras.metrics.sparse_categorical_accuracy(y_true, y_pred)"
   ]
  },
  {
   "cell_type": "code",
   "execution_count": null,
   "metadata": {},
   "outputs": [],
   "source": []
  },
  {
   "cell_type": "markdown",
   "metadata": {},
   "source": [
    "# Model Configuration"
   ]
  },
  {
   "cell_type": "code",
   "execution_count": 16,
   "metadata": {},
   "outputs": [],
   "source": [
    "# model = keras.models.Sequential()"
   ]
  },
  {
   "cell_type": "code",
   "execution_count": 17,
   "metadata": {},
   "outputs": [],
   "source": [
    "# model.add(keras.layers.Dense(32, input_dim = 10, activation = 'relu'))\n",
    "# model.add(keras.layers.Dense(16, activation = 'relu'))\n",
    "# model.add(keras.layers.Dense(1, activation = 'sigmoid'))"
   ]
  },
  {
   "cell_type": "code",
   "execution_count": 18,
   "metadata": {},
   "outputs": [],
   "source": [
    "# model.compile(optimizer='Adam', loss='binary_crossentropy', metrics=['accuracy'])"
   ]
  },
  {
   "cell_type": "code",
   "execution_count": null,
   "metadata": {},
   "outputs": [],
   "source": []
  },
  {
   "cell_type": "markdown",
   "metadata": {},
   "source": [
    "# Model Training"
   ]
  },
  {
   "cell_type": "code",
   "execution_count": 19,
   "metadata": {},
   "outputs": [],
   "source": [
    "import numpy as np"
   ]
  },
  {
   "cell_type": "code",
   "execution_count": 20,
   "metadata": {},
   "outputs": [],
   "source": [
    "# Generate dummy training dataset\n",
    "np.random.seed(2020)\n",
    "x_train = np.random.random((6000, 10))\n",
    "y_train = np.random.randint(2, size = (6000, 1))"
   ]
  },
  {
   "cell_type": "code",
   "execution_count": 21,
   "metadata": {},
   "outputs": [
    {
     "data": {
      "text/plain": [
       "array([[0.98627683, 0.87339195, 0.50974552, ..., 0.34331559, 0.86215894,\n",
       "        0.15669967],\n",
       "       [0.14088724, 0.75708028, 0.73632492, ..., 0.56142698, 0.12417878,\n",
       "        0.31973648],\n",
       "       [0.95321387, 0.13735679, 0.5694131 , ..., 0.45611937, 0.15585136,\n",
       "        0.47604897],\n",
       "       ...,\n",
       "       [0.99629792, 0.3515813 , 0.91801664, ..., 0.67953284, 0.36953237,\n",
       "        0.95323498],\n",
       "       [0.43305994, 0.32229442, 0.04844357, ..., 0.47534698, 0.18244435,\n",
       "        0.39612088],\n",
       "       [0.74379997, 0.00623057, 0.27015102, ..., 0.39029908, 0.70436206,\n",
       "        0.06763585]])"
      ]
     },
     "execution_count": 21,
     "metadata": {},
     "output_type": "execute_result"
    }
   ],
   "source": [
    "x_train"
   ]
  },
  {
   "cell_type": "code",
   "execution_count": 22,
   "metadata": {},
   "outputs": [
    {
     "data": {
      "text/plain": [
       "(6000, 10)"
      ]
     },
     "execution_count": 22,
     "metadata": {},
     "output_type": "execute_result"
    }
   ],
   "source": [
    "x_train.shape"
   ]
  },
  {
   "cell_type": "code",
   "execution_count": 23,
   "metadata": {},
   "outputs": [
    {
     "data": {
      "text/plain": [
       "array([[1],\n",
       "       [1],\n",
       "       [0],\n",
       "       ...,\n",
       "       [0],\n",
       "       [0],\n",
       "       [1]])"
      ]
     },
     "execution_count": 23,
     "metadata": {},
     "output_type": "execute_result"
    }
   ],
   "source": [
    "y_train"
   ]
  },
  {
   "cell_type": "code",
   "execution_count": 24,
   "metadata": {},
   "outputs": [
    {
     "data": {
      "text/plain": [
       "(6000, 1)"
      ]
     },
     "execution_count": 24,
     "metadata": {},
     "output_type": "execute_result"
    }
   ],
   "source": [
    "y_train.shape"
   ]
  },
  {
   "cell_type": "code",
   "execution_count": 25,
   "metadata": {},
   "outputs": [],
   "source": [
    "# Generate dummmy validation dataset\n",
    "x_val = np.random.random((2000, 10))\n",
    "y_val = np.random.randint(2, size = (2000, 1))"
   ]
  },
  {
   "cell_type": "code",
   "execution_count": 26,
   "metadata": {},
   "outputs": [],
   "source": [
    "# Generate dummy test dataset\n",
    "x_test = np.random.random((2000, 10))\n",
    "y_test = np.random.randint(2, size = (2000, 1))"
   ]
  },
  {
   "cell_type": "code",
   "execution_count": 27,
   "metadata": {},
   "outputs": [],
   "source": [
    "# Define the model architecture\n",
    "model = keras.models.Sequential()\n",
    "model.add(keras.layers.Dense(64, input_dim = 10, activation = 'relu')) # Layer 1\n",
    "model.add(keras.layers.Dense(32, activation = 'relu')) # Layer 2\n",
    "model.add(keras.layers.Dense(16, activation = 'relu')) # Layer 3\n",
    "model.add(keras.layers.Dense(8, activation = 'relu')) # Layer 4\n",
    "model.add(keras.layers.Dense(4, activation = 'relu')) # Layer 5\n",
    "model.add(keras.layers.Dense(1, activation = 'sigmoid')) # Output layer"
   ]
  },
  {
   "cell_type": "code",
   "execution_count": 28,
   "metadata": {},
   "outputs": [],
   "source": [
    "# Configure the model\n",
    "model.compile(optimizer='Adam', loss='binary_crossentropy', metrics=['accuracy'])"
   ]
  },
  {
   "cell_type": "code",
   "execution_count": 29,
   "metadata": {},
   "outputs": [
    {
     "name": "stdout",
     "output_type": "stream",
     "text": [
      "Epoch 1/10\n",
      "188/188 [==============================] - 1s 4ms/step - loss: 0.6935 - accuracy: 0.4972 - val_loss: 0.6933 - val_accuracy: 0.4885\n",
      "Epoch 2/10\n",
      "188/188 [==============================] - 0s 1ms/step - loss: 0.6932 - accuracy: 0.5038 - val_loss: 0.6933 - val_accuracy: 0.4820\n",
      "Epoch 3/10\n",
      "188/188 [==============================] - 0s 2ms/step - loss: 0.6932 - accuracy: 0.4967 - val_loss: 0.6935 - val_accuracy: 0.4790\n",
      "Epoch 4/10\n",
      "188/188 [==============================] - 0s 1ms/step - loss: 0.6931 - accuracy: 0.5045 - val_loss: 0.6933 - val_accuracy: 0.4880\n",
      "Epoch 5/10\n",
      "188/188 [==============================] - 0s 1ms/step - loss: 0.6931 - accuracy: 0.5030 - val_loss: 0.6936 - val_accuracy: 0.4780\n",
      "Epoch 6/10\n",
      "188/188 [==============================] - 0s 1ms/step - loss: 0.6933 - accuracy: 0.5122 - val_loss: 0.6937 - val_accuracy: 0.4790\n",
      "Epoch 7/10\n",
      "188/188 [==============================] - 0s 1ms/step - loss: 0.6931 - accuracy: 0.4998 - val_loss: 0.6936 - val_accuracy: 0.4805\n",
      "Epoch 8/10\n",
      "188/188 [==============================] - 0s 1ms/step - loss: 0.6930 - accuracy: 0.5023 - val_loss: 0.6935 - val_accuracy: 0.4955\n",
      "Epoch 9/10\n",
      "188/188 [==============================] - 0s 1ms/step - loss: 0.6928 - accuracy: 0.5088 - val_loss: 0.6929 - val_accuracy: 0.5090\n",
      "Epoch 10/10\n",
      "188/188 [==============================] - 0s 1ms/step - loss: 0.6928 - accuracy: 0.5122 - val_loss: 0.6936 - val_accuracy: 0.4900\n"
     ]
    },
    {
     "data": {
      "text/plain": [
       "<tensorflow.python.keras.callbacks.History at 0x24fbb732f40>"
      ]
     },
     "execution_count": 29,
     "metadata": {},
     "output_type": "execute_result"
    }
   ],
   "source": [
    "# Train the model\n",
    "model.fit(x_train, y_train, batch_size=32, epochs=10, validation_data=(x_val, y_val))"
   ]
  },
  {
   "cell_type": "markdown",
   "metadata": {},
   "source": [
    "# Model Evaluation"
   ]
  },
  {
   "cell_type": "code",
   "execution_count": 30,
   "metadata": {},
   "outputs": [
    {
     "name": "stdout",
     "output_type": "stream",
     "text": [
      "63/63 [==============================] - 0s 746us/step - loss: 0.6934 - accuracy: 0.4950\n"
     ]
    }
   ],
   "source": [
    "evaluate = model.evaluate(x_test, y_test)"
   ]
  },
  {
   "cell_type": "code",
   "execution_count": 31,
   "metadata": {},
   "outputs": [
    {
     "name": "stdout",
     "output_type": "stream",
     "text": [
      "[0.6933773756027222, 0.4950000047683716]\n"
     ]
    }
   ],
   "source": [
    "print(evaluate)"
   ]
  },
  {
   "cell_type": "code",
   "execution_count": 32,
   "metadata": {},
   "outputs": [
    {
     "name": "stdout",
     "output_type": "stream",
     "text": [
      "['loss', 'accuracy']\n"
     ]
    }
   ],
   "source": [
    "print(model.metrics_names)"
   ]
  },
  {
   "cell_type": "code",
   "execution_count": 33,
   "metadata": {},
   "outputs": [],
   "source": [
    "# Make Prediction\n",
    "pred = model.predict(x_test)"
   ]
  },
  {
   "cell_type": "code",
   "execution_count": 34,
   "metadata": {},
   "outputs": [
    {
     "data": {
      "text/plain": [
       "array([[0.48917574],\n",
       "       [0.5041588 ],\n",
       "       [0.49547267],\n",
       "       [0.49410182],\n",
       "       [0.4962582 ],\n",
       "       [0.48816985],\n",
       "       [0.49864757],\n",
       "       [0.4991756 ],\n",
       "       [0.48773366],\n",
       "       [0.50740653]], dtype=float32)"
      ]
     },
     "execution_count": 34,
     "metadata": {},
     "output_type": "execute_result"
    }
   ],
   "source": [
    "pred[:10]"
   ]
  },
  {
   "cell_type": "markdown",
   "metadata": {},
   "source": [
    "# Putting all building blocks of NN for real world dataset"
   ]
  },
  {
   "cell_type": "markdown",
   "metadata": {},
   "source": [
    "## Boston House Prices Dataset"
   ]
  },
  {
   "cell_type": "code",
   "execution_count": 35,
   "metadata": {},
   "outputs": [],
   "source": [
    "from tensorflow.keras.datasets import boston_housing"
   ]
  },
  {
   "cell_type": "code",
   "execution_count": 36,
   "metadata": {},
   "outputs": [],
   "source": [
    "(x_train, y_train), (x_test, y_test) = boston_housing.load_data()"
   ]
  },
  {
   "cell_type": "markdown",
   "metadata": {},
   "source": [
    "### Explore the data structure using basic python commands "
   ]
  },
  {
   "cell_type": "code",
   "execution_count": 37,
   "metadata": {},
   "outputs": [
    {
     "name": "stdout",
     "output_type": "stream",
     "text": [
      "Type of the Dataset: <class 'numpy.ndarray'>\n",
      "Shape of training data : (404, 13)\n",
      "Shape of training labels : (404,)\n",
      "Shape of testing data : <class 'numpy.ndarray'>\n",
      "Shape of testing labels : (102,)\n"
     ]
    }
   ],
   "source": [
    "print(\"Type of the Dataset:\",type(y_train))\n",
    "print(\"Shape of training data :\",x_train.shape)\n",
    "print(\"Shape of training labels :\",y_train.shape)\n",
    "print(\"Shape of testing data :\",type(x_test))\n",
    "print(\"Shape of testing labels :\",y_test.shape)"
   ]
  },
  {
   "cell_type": "code",
   "execution_count": 38,
   "metadata": {},
   "outputs": [
    {
     "data": {
      "text/plain": [
       "array([[1.23247e+00, 0.00000e+00, 8.14000e+00, 0.00000e+00, 5.38000e-01,\n",
       "        6.14200e+00, 9.17000e+01, 3.97690e+00, 4.00000e+00, 3.07000e+02,\n",
       "        2.10000e+01, 3.96900e+02, 1.87200e+01],\n",
       "       [2.17700e-02, 8.25000e+01, 2.03000e+00, 0.00000e+00, 4.15000e-01,\n",
       "        7.61000e+00, 1.57000e+01, 6.27000e+00, 2.00000e+00, 3.48000e+02,\n",
       "        1.47000e+01, 3.95380e+02, 3.11000e+00],\n",
       "       [4.89822e+00, 0.00000e+00, 1.81000e+01, 0.00000e+00, 6.31000e-01,\n",
       "        4.97000e+00, 1.00000e+02, 1.33250e+00, 2.40000e+01, 6.66000e+02,\n",
       "        2.02000e+01, 3.75520e+02, 3.26000e+00]])"
      ]
     },
     "execution_count": 38,
     "metadata": {},
     "output_type": "execute_result"
    }
   ],
   "source": [
    "x_train[:3, :]"
   ]
  },
  {
   "cell_type": "code",
   "execution_count": 39,
   "metadata": {},
   "outputs": [],
   "source": [
    "import numpy as np\n",
    "from tensorflow.keras.models import Sequential\n",
    "from tensorflow.keras.layers import Dense, Activation"
   ]
  },
  {
   "cell_type": "markdown",
   "metadata": {},
   "source": [
    "### Extract the last 100 rows from the training data to create the validation datasets"
   ]
  },
  {
   "cell_type": "code",
   "execution_count": 40,
   "metadata": {},
   "outputs": [],
   "source": [
    "x_val = x_train[300:,]\n",
    "y_val = y_train[300:,]"
   ]
  },
  {
   "cell_type": "markdown",
   "metadata": {},
   "source": [
    "### Define model structure"
   ]
  },
  {
   "cell_type": "code",
   "execution_count": 41,
   "metadata": {},
   "outputs": [],
   "source": [
    "model = Sequential()"
   ]
  },
  {
   "cell_type": "code",
   "execution_count": 42,
   "metadata": {},
   "outputs": [],
   "source": [
    "model.add(Dense(13, input_dim = 13, kernel_initializer = 'normal', activation = 'relu'))\n",
    "model.add(Dense(6, kernel_initializer = 'normal', activation = 'relu'))\n",
    "model.add(Dense(1, kernel_initializer = 'normal'))"
   ]
  },
  {
   "cell_type": "markdown",
   "metadata": {},
   "source": [
    "### Compile model"
   ]
  },
  {
   "cell_type": "code",
   "execution_count": 43,
   "metadata": {},
   "outputs": [],
   "source": [
    "model.compile(loss='mean_squared_error', optimizer = 'adam',\n",
    "              metrics=['mean_absolute_percentage_error'])"
   ]
  },
  {
   "cell_type": "markdown",
   "metadata": {},
   "source": [
    "### Train model"
   ]
  },
  {
   "cell_type": "code",
   "execution_count": 44,
   "metadata": {},
   "outputs": [
    {
     "name": "stdout",
     "output_type": "stream",
     "text": [
      "Epoch 1/3\n",
      "13/13 [==============================] - 0s 12ms/step - loss: 566.7032 - mean_absolute_percentage_error: 97.6604 - val_loss: 646.5753 - val_mean_absolute_percentage_error: 96.3623\n",
      "Epoch 2/3\n",
      "13/13 [==============================] - 0s 2ms/step - loss: 539.6003 - mean_absolute_percentage_error: 94.2275 - val_loss: 607.9684 - val_mean_absolute_percentage_error: 92.1068\n",
      "Epoch 3/3\n",
      "13/13 [==============================] - 0s 3ms/step - loss: 495.0490 - mean_absolute_percentage_error: 88.0881 - val_loss: 544.9922 - val_mean_absolute_percentage_error: 84.7128\n"
     ]
    },
    {
     "data": {
      "text/plain": [
       "<tensorflow.python.keras.callbacks.History at 0x24fbcd22e80>"
      ]
     },
     "execution_count": 44,
     "metadata": {},
     "output_type": "execute_result"
    }
   ],
   "source": [
    "model.fit(x_train, y_train, batch_size=32, epochs=3, validation_data=(x_val, y_val))"
   ]
  },
  {
   "cell_type": "markdown",
   "metadata": {},
   "source": [
    "### Evaluate"
   ]
  },
  {
   "cell_type": "code",
   "execution_count": 45,
   "metadata": {},
   "outputs": [
    {
     "name": "stdout",
     "output_type": "stream",
     "text": [
      "4/4 [==============================] - 0s 1ms/step - loss: 486.3073 - mean_absolute_percentage_error: 82.6500\n"
     ]
    }
   ],
   "source": [
    "results = model.evaluate(x_test, y_test)"
   ]
  },
  {
   "cell_type": "code",
   "execution_count": 46,
   "metadata": {},
   "outputs": [
    {
     "name": "stdout",
     "output_type": "stream",
     "text": [
      "loss :  486.3072814941406\n",
      "mean_absolute_percentage_error :  82.64997863769531\n"
     ]
    }
   ],
   "source": [
    "for i in range(len(model.metrics_names)):\n",
    "    print(model.metrics_names[i], \": \", results[i])"
   ]
  },
  {
   "cell_type": "markdown",
   "metadata": {},
   "source": [
    "### Train the model again for better accuracy"
   ]
  },
  {
   "cell_type": "code",
   "execution_count": 47,
   "metadata": {},
   "outputs": [
    {
     "name": "stdout",
     "output_type": "stream",
     "text": [
      "Epoch 1/30\n",
      "13/13 [==============================] - 0s 7ms/step - loss: 425.0675 - mean_absolute_percentage_error: 77.9481 - val_loss: 451.0977 - val_mean_absolute_percentage_error: 72.5550\n",
      "Epoch 2/30\n",
      "13/13 [==============================] - 0s 3ms/step - loss: 330.4767 - mean_absolute_percentage_error: 63.2807 - val_loss: 334.5087 - val_mean_absolute_percentage_error: 55.7591\n",
      "Epoch 3/30\n",
      "13/13 [==============================] - 0s 3ms/step - loss: 228.0413 - mean_absolute_percentage_error: 48.4685 - val_loss: 224.3272 - val_mean_absolute_percentage_error: 42.0998\n",
      "Epoch 4/30\n",
      "13/13 [==============================] - 0s 3ms/step - loss: 153.3775 - mean_absolute_percentage_error: 42.0472 - val_loss: 157.2805 - val_mean_absolute_percentage_error: 37.6525\n",
      "Epoch 5/30\n",
      "13/13 [==============================] - 0s 3ms/step - loss: 124.2876 - mean_absolute_percentage_error: 42.9486 - val_loss: 138.8385 - val_mean_absolute_percentage_error: 39.5123\n",
      "Epoch 6/30\n",
      "13/13 [==============================] - 0s 3ms/step - loss: 119.6460 - mean_absolute_percentage_error: 44.6239 - val_loss: 134.2096 - val_mean_absolute_percentage_error: 39.2075\n",
      "Epoch 7/30\n",
      "13/13 [==============================] - 0s 3ms/step - loss: 115.6527 - mean_absolute_percentage_error: 43.5893 - val_loss: 131.1174 - val_mean_absolute_percentage_error: 37.9284\n",
      "Epoch 8/30\n",
      "13/13 [==============================] - 0s 3ms/step - loss: 111.6701 - mean_absolute_percentage_error: 41.4401 - val_loss: 129.4265 - val_mean_absolute_percentage_error: 36.3201\n",
      "Epoch 9/30\n",
      "13/13 [==============================] - 0s 3ms/step - loss: 107.8364 - mean_absolute_percentage_error: 40.2422 - val_loss: 124.8104 - val_mean_absolute_percentage_error: 35.8537\n",
      "Epoch 10/30\n",
      "13/13 [==============================] - 0s 3ms/step - loss: 104.3624 - mean_absolute_percentage_error: 39.6443 - val_loss: 120.8739 - val_mean_absolute_percentage_error: 35.2178\n",
      "Epoch 11/30\n",
      "13/13 [==============================] - 0s 3ms/step - loss: 100.5074 - mean_absolute_percentage_error: 38.1966 - val_loss: 118.3799 - val_mean_absolute_percentage_error: 33.9947\n",
      "Epoch 12/30\n",
      "13/13 [==============================] - 0s 3ms/step - loss: 97.2039 - mean_absolute_percentage_error: 36.4659 - val_loss: 115.6203 - val_mean_absolute_percentage_error: 32.4897\n",
      "Epoch 13/30\n",
      "13/13 [==============================] - 0s 3ms/step - loss: 92.6069 - mean_absolute_percentage_error: 34.9489 - val_loss: 110.9970 - val_mean_absolute_percentage_error: 31.4394\n",
      "Epoch 14/30\n",
      "13/13 [==============================] - 0s 3ms/step - loss: 88.4812 - mean_absolute_percentage_error: 34.6887 - val_loss: 104.8859 - val_mean_absolute_percentage_error: 31.4423\n",
      "Epoch 15/30\n",
      "13/13 [==============================] - 0s 4ms/step - loss: 84.1133 - mean_absolute_percentage_error: 33.5285 - val_loss: 101.7702 - val_mean_absolute_percentage_error: 29.5292\n",
      "Epoch 16/30\n",
      "13/13 [==============================] - 0s 3ms/step - loss: 80.3975 - mean_absolute_percentage_error: 32.1113 - val_loss: 98.7371 - val_mean_absolute_percentage_error: 28.3503\n",
      "Epoch 17/30\n",
      "13/13 [==============================] - 0s 3ms/step - loss: 77.6013 - mean_absolute_percentage_error: 31.2824 - val_loss: 95.4487 - val_mean_absolute_percentage_error: 27.7072\n",
      "Epoch 18/30\n",
      "13/13 [==============================] - 0s 4ms/step - loss: 75.1695 - mean_absolute_percentage_error: 30.9909 - val_loss: 93.1430 - val_mean_absolute_percentage_error: 27.1489\n",
      "Epoch 19/30\n",
      "13/13 [==============================] - 0s 3ms/step - loss: 73.4728 - mean_absolute_percentage_error: 31.1470 - val_loss: 91.6193 - val_mean_absolute_percentage_error: 26.6645\n",
      "Epoch 20/30\n",
      "13/13 [==============================] - 0s 3ms/step - loss: 72.3443 - mean_absolute_percentage_error: 31.5300 - val_loss: 89.6522 - val_mean_absolute_percentage_error: 26.9521\n",
      "Epoch 21/30\n",
      "13/13 [==============================] - 0s 3ms/step - loss: 71.7658 - mean_absolute_percentage_error: 30.8950 - val_loss: 90.0174 - val_mean_absolute_percentage_error: 26.1701\n",
      "Epoch 22/30\n",
      "13/13 [==============================] - 0s 3ms/step - loss: 70.9356 - mean_absolute_percentage_error: 31.3195 - val_loss: 88.0540 - val_mean_absolute_percentage_error: 26.9981\n",
      "Epoch 23/30\n",
      "13/13 [==============================] - 0s 5ms/step - loss: 70.5039 - mean_absolute_percentage_error: 31.0487 - val_loss: 89.0784 - val_mean_absolute_percentage_error: 26.1344\n",
      "Epoch 24/30\n",
      "13/13 [==============================] - 0s 3ms/step - loss: 70.5346 - mean_absolute_percentage_error: 31.8806 - val_loss: 87.1412 - val_mean_absolute_percentage_error: 27.0731\n",
      "Epoch 25/30\n",
      "13/13 [==============================] - 0s 4ms/step - loss: 69.5883 - mean_absolute_percentage_error: 30.9995 - val_loss: 88.4759 - val_mean_absolute_percentage_error: 26.1302\n",
      "Epoch 26/30\n",
      "13/13 [==============================] - 0s 4ms/step - loss: 69.3749 - mean_absolute_percentage_error: 30.6625 - val_loss: 87.5266 - val_mean_absolute_percentage_error: 26.4157\n",
      "Epoch 27/30\n",
      "13/13 [==============================] - 0s 4ms/step - loss: 69.0735 - mean_absolute_percentage_error: 31.3904 - val_loss: 86.7696 - val_mean_absolute_percentage_error: 26.6724\n",
      "Epoch 28/30\n",
      "13/13 [==============================] - 0s 4ms/step - loss: 68.7713 - mean_absolute_percentage_error: 30.9007 - val_loss: 87.1827 - val_mean_absolute_percentage_error: 26.3480\n",
      "Epoch 29/30\n",
      "13/13 [==============================] - 0s 4ms/step - loss: 68.5165 - mean_absolute_percentage_error: 31.1425 - val_loss: 86.2341 - val_mean_absolute_percentage_error: 26.7088\n",
      "Epoch 30/30\n",
      "13/13 [==============================] - 0s 3ms/step - loss: 68.4227 - mean_absolute_percentage_error: 30.6667 - val_loss: 86.8181 - val_mean_absolute_percentage_error: 26.2932\n"
     ]
    },
    {
     "data": {
      "text/plain": [
       "<tensorflow.python.keras.callbacks.History at 0x24fbef636a0>"
      ]
     },
     "execution_count": 47,
     "metadata": {},
     "output_type": "execute_result"
    }
   ],
   "source": [
    "model.fit(x_train, y_train, batch_size=32, epochs=30, validation_data=(x_val, y_val))"
   ]
  },
  {
   "cell_type": "markdown",
   "metadata": {},
   "source": [
    "### Evaluate again"
   ]
  },
  {
   "cell_type": "code",
   "execution_count": 48,
   "metadata": {},
   "outputs": [
    {
     "name": "stdout",
     "output_type": "stream",
     "text": [
      "4/4 [==============================] - 0s 1ms/step - loss: 74.5473 - mean_absolute_percentage_error: 35.0155\n"
     ]
    }
   ],
   "source": [
    "results = model.evaluate(x_test, y_test)"
   ]
  },
  {
   "cell_type": "code",
   "execution_count": 49,
   "metadata": {},
   "outputs": [
    {
     "name": "stdout",
     "output_type": "stream",
     "text": [
      "loss :  74.54732513427734\n",
      "mean_absolute_percentage_error :  35.01551818847656\n"
     ]
    }
   ],
   "source": [
    "for i in range(len(model.metrics_names)):\n",
    "    print(model.metrics_names[i], \": \", results[i])"
   ]
  },
  {
   "cell_type": "code",
   "execution_count": 50,
   "metadata": {},
   "outputs": [
    {
     "name": "stdout",
     "output_type": "stream",
     "text": [
      "Epoch 1/10\n",
      "13/13 [==============================] - 0s 7ms/step - loss: 68.3735 - mean_absolute_percentage_error: 31.5809 - val_loss: 85.7755 - val_mean_absolute_percentage_error: 26.7049\n",
      "Epoch 2/10\n",
      "13/13 [==============================] - 0s 4ms/step - loss: 67.8068 - mean_absolute_percentage_error: 30.9299 - val_loss: 85.9535 - val_mean_absolute_percentage_error: 26.4906\n",
      "Epoch 3/10\n",
      "13/13 [==============================] - 0s 4ms/step - loss: 68.3475 - mean_absolute_percentage_error: 29.9747 - val_loss: 86.4332 - val_mean_absolute_percentage_error: 26.1964\n",
      "Epoch 4/10\n",
      "13/13 [==============================] - 0s 3ms/step - loss: 68.1897 - mean_absolute_percentage_error: 32.2226 - val_loss: 84.5781 - val_mean_absolute_percentage_error: 27.1728\n",
      "Epoch 5/10\n",
      "13/13 [==============================] - 0s 3ms/step - loss: 67.2694 - mean_absolute_percentage_error: 30.7793 - val_loss: 86.1796 - val_mean_absolute_percentage_error: 26.0859\n",
      "Epoch 6/10\n",
      "13/13 [==============================] - 0s 3ms/step - loss: 66.9540 - mean_absolute_percentage_error: 30.3024 - val_loss: 85.3052 - val_mean_absolute_percentage_error: 26.3845\n",
      "Epoch 7/10\n",
      "13/13 [==============================] - 0s 3ms/step - loss: 66.8054 - mean_absolute_percentage_error: 30.5773 - val_loss: 85.1329 - val_mean_absolute_percentage_error: 26.3527\n",
      "Epoch 8/10\n",
      "13/13 [==============================] - 0s 5ms/step - loss: 66.3901 - mean_absolute_percentage_error: 30.4678 - val_loss: 84.6776 - val_mean_absolute_percentage_error: 26.4777\n",
      "Epoch 9/10\n",
      "13/13 [==============================] - 0s 5ms/step - loss: 66.1934 - mean_absolute_percentage_error: 30.5664 - val_loss: 84.5559 - val_mean_absolute_percentage_error: 26.4100\n",
      "Epoch 10/10\n",
      "13/13 [==============================] - 0s 5ms/step - loss: 65.9453 - mean_absolute_percentage_error: 30.4247 - val_loss: 84.3665 - val_mean_absolute_percentage_error: 26.4000\n"
     ]
    },
    {
     "data": {
      "text/plain": [
       "<tensorflow.python.keras.callbacks.History at 0x24fc011fa00>"
      ]
     },
     "execution_count": 50,
     "metadata": {},
     "output_type": "execute_result"
    }
   ],
   "source": [
    "model.fit(x_train, y_train, batch_size=32, epochs=10, validation_data=(x_val, y_val))"
   ]
  },
  {
   "cell_type": "code",
   "execution_count": 51,
   "metadata": {},
   "outputs": [
    {
     "name": "stdout",
     "output_type": "stream",
     "text": [
      "4/4 [==============================] - 0s 1ms/step - loss: 72.7389 - mean_absolute_percentage_error: 34.7699\n"
     ]
    }
   ],
   "source": [
    "results = model.evaluate(x_test, y_test)"
   ]
  },
  {
   "cell_type": "code",
   "execution_count": 52,
   "metadata": {},
   "outputs": [
    {
     "name": "stdout",
     "output_type": "stream",
     "text": [
      "loss :  72.73885345458984\n",
      "mean_absolute_percentage_error :  34.76986312866211\n"
     ]
    }
   ],
   "source": [
    "for i in range(len(model.metrics_names)):\n",
    "    print(model.metrics_names[i], \": \", results[i])"
   ]
  },
  {
   "cell_type": "code",
   "execution_count": null,
   "metadata": {},
   "outputs": [],
   "source": []
  }
 ],
 "metadata": {
  "kernelspec": {
   "display_name": "Python 3",
   "language": "python",
   "name": "python3"
  },
  "language_info": {
   "codemirror_mode": {
    "name": "ipython",
    "version": 3
   },
   "file_extension": ".py",
   "mimetype": "text/x-python",
   "name": "python",
   "nbconvert_exporter": "python",
   "pygments_lexer": "ipython3",
   "version": "3.8.3"
  }
 },
 "nbformat": 4,
 "nbformat_minor": 4
}
