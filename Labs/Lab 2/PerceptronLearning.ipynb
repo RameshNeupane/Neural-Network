{
 "cells": [
  {
   "cell_type": "markdown",
   "metadata": {},
   "source": [
    "# Train AND gate using perceptron learning algorithm"
   ]
  },
  {
   "cell_type": "code",
   "execution_count": 1,
   "metadata": {},
   "outputs": [],
   "source": [
    "import numpy as np"
   ]
  },
  {
   "cell_type": "code",
   "execution_count": 7,
   "metadata": {},
   "outputs": [
    {
     "name": "stdout",
     "output_type": "stream",
     "text": [
      "Training\n",
      "+++++++++\n",
      "Epoch #1\n",
      "Weights after epoch 1: [1. 1.]\n",
      "Bias: -1.0\n",
      "Epoch #2\n",
      "Weights after epoch 2: [1. 1.]\n",
      "Bias: -1.0\n",
      "Epoch #3\n",
      "Weights after epoch 3: [1. 1.]\n",
      "Bias: -1.0\n",
      "Epoch #4\n",
      "Weights after epoch 4: [1. 1.]\n",
      "Bias: -1.0\n",
      "*****Testing*****\n",
      "Test data: [1 1]\n",
      "Output: 1\n"
     ]
    }
   ],
   "source": [
    "b = 0.0\n",
    "alpha = 1\n",
    "\n",
    "def train_perceptron(w, x, t):\n",
    "    global b\n",
    "    for i in range(len(x)):\n",
    "        v = sum(w * x[i]) + b\n",
    "        y = hard_limiter(v)\n",
    "        dw = alpha * (t[i] - y) * x[i]\n",
    "        w = np.add(w, dw)\n",
    "        db = alpha * (t[i] - y)\n",
    "        b += db\n",
    "    return w\n",
    "\n",
    "def predict_perceptron(w, x):\n",
    "    z = w * x\n",
    "    v = sum(z) + b\n",
    "    y = hard_limiter(v)\n",
    "    return y\n",
    "\n",
    "def hard_limiter(v):\n",
    "    if v > 0:\n",
    "        return 1\n",
    "    elif v < 0:\n",
    "        return -1\n",
    "    else:\n",
    "        return 0\n",
    "\n",
    "trainx = np.array([[-1,-1], [-1, 1], [1, -1], [1, 1]])\n",
    "trainy = np.array([-1, -1, -1, 1])\n",
    "testx = np.array([1, 1])\n",
    "wt = np.array([0.0, 0.0])\n",
    "print(\"Training\")\n",
    "print(\"+++++++++\")\n",
    "for i in range(1, 5):\n",
    "    print(f\"Epoch #{i}\")\n",
    "    wt = train_perceptron(wt, trainx, trainy)\n",
    "    print(f\"Weights after epoch {i}: {wt}\")\n",
    "    print(f\"Bias: {b}\")\n",
    "\n",
    "print(\"*****Testing*****\")\n",
    "y = predict_perceptron(wt, testx)\n",
    "print(f\"Test data: {testx}\")\n",
    "print(f\"Output: {y}\")"
   ]
  },
  {
   "cell_type": "markdown",
   "metadata": {},
   "source": [
    "# OR gate"
   ]
  },
  {
   "cell_type": "code",
   "execution_count": 8,
   "metadata": {},
   "outputs": [
    {
     "name": "stdout",
     "output_type": "stream",
     "text": [
      "Training\n",
      "+++++++++\n",
      "Epoch #1\n",
      "Weights after epoch 1: [1. 1.]\n",
      "Bias: 3.0\n",
      "Epoch #2\n",
      "Weights after epoch 2: [3. 3.]\n",
      "Bias: 1.0\n",
      "Epoch #3\n",
      "Weights after epoch 3: [3. 3.]\n",
      "Bias: 1.0\n",
      "Epoch #4\n",
      "Weights after epoch 4: [3. 3.]\n",
      "Bias: 1.0\n",
      "*****Testing*****\n",
      "Test data: [ 1 -1]\n",
      "Output: 1\n"
     ]
    }
   ],
   "source": [
    "b = 0.0\n",
    "alpha = 1\n",
    "\n",
    "def train_perceptron(w, x, t):\n",
    "    global b\n",
    "    for i in range(len(x)):\n",
    "        v = sum(w * x[i]) + b\n",
    "        y = hard_limiter(v)\n",
    "        dw = alpha * (t[i] - y) * x[i]\n",
    "        w = np.add(w, dw)\n",
    "        db = alpha * (t[i] - y)\n",
    "        b += db\n",
    "    return w\n",
    "\n",
    "def predict_perceptron(w, x):\n",
    "    z = w * x\n",
    "    v = sum(z) + b\n",
    "    y = hard_limiter(v)\n",
    "    return y\n",
    "\n",
    "def hard_limiter(v):\n",
    "    if v > 0:\n",
    "        return 1\n",
    "    elif v < 0:\n",
    "        return -1\n",
    "    else:\n",
    "        return 0\n",
    "\n",
    "trainx = np.array([[-1,-1], [-1, 1], [1, -1], [1, 1]])\n",
    "trainy = np.array([-1, 1, 1, 1])\n",
    "testx = np.array([1, -1])\n",
    "wt = np.array([0.0, 0.0])\n",
    "print(\"Training\")\n",
    "print(\"+++++++++\")\n",
    "for i in range(1, 5):\n",
    "    print(f\"Epoch #{i}\")\n",
    "    wt = train_perceptron(wt, trainx, trainy)\n",
    "    print(f\"Weights after epoch {i}: {wt}\")\n",
    "    print(f\"Bias: {b}\")\n",
    "\n",
    "print(\"*****Testing*****\")\n",
    "y = predict_perceptron(wt, testx)\n",
    "print(f\"Test data: {testx}\")\n",
    "print(f\"Output: {y}\")"
   ]
  },
  {
   "cell_type": "markdown",
   "metadata": {},
   "source": [
    "# Lab 2.2"
   ]
  },
  {
   "cell_type": "code",
   "execution_count": 1,
   "metadata": {},
   "outputs": [],
   "source": [
    "import numpy as np\n",
    "from sklearn.preprocessing import MinMaxScaler"
   ]
  },
  {
   "cell_type": "code",
   "execution_count": 18,
   "metadata": {},
   "outputs": [
    {
     "name": "stdout",
     "output_type": "stream",
     "text": [
      "******Training******\n",
      "Epoch #0\n",
      "Weights after epoch 0: [0.77777778 0.69444444]\n",
      "Bias: -1.0\n",
      "Epoch #1\n",
      "Weights after epoch 1: [0.77777778 0.69444444]\n",
      "Bias: -1.0\n",
      "Epoch #2\n",
      "Weights after epoch 2: [0.77777778 0.69444444]\n",
      "Bias: -1.0\n",
      "Epoch #3\n",
      "Weights after epoch 3: [0.77777778 0.69444444]\n",
      "Bias: -1.0\n",
      "Epoch #4\n",
      "Weights after epoch 4: [0.77777778 0.69444444]\n",
      "Bias: -1.0\n",
      "\n",
      "******Testing******\n",
      "Enter test data:\n",
      "5.3\n",
      "52\n",
      "Predicted class: FEMALE\n"
     ]
    }
   ],
   "source": [
    "bias = 0.0\n",
    "alpha = 1\n",
    "# Neuron for the calculation\n",
    "def train_perceptron(tx, wt, t):\n",
    "    global bias\n",
    "    for i in range(len(tx)):\n",
    "        n = sum(wt * tx[i]) + bias\n",
    "        y = hard_limiter(n)\n",
    "        wt = np.add(wt, alpha * (t[i] - y) * tx[i])\n",
    "        bias += alpha * (t[i] - y)\n",
    "    return wt\n",
    "\n",
    "# Output for the test data\n",
    "def predict_class(x, w):\n",
    "    n = sum(w * x) + bias\n",
    "    y = hard_limiter(n)\n",
    "    return y\n",
    "\n",
    "# Hard limiter activatin function\n",
    "def hard_limiter(n):\n",
    "    if n > 0:\n",
    "        return 1\n",
    "    elif n < 0:\n",
    "        return -1\n",
    "    else:\n",
    "        return 0\n",
    "# Raw input heights and weights into trainx\n",
    "trainx = [[5.9, 75], [5.8, 86], [5.2, 50], [5.4, 55], [6.1, 85], [5.5, 62]]\n",
    "# Output class 1 for MALE and -1 for FEMALE\n",
    "trainy = [1, 1, -1, -1, 1, -1]\n",
    "# Changing trainx and trainy into np.array\n",
    "trainx = np.array(trainx)\n",
    "trainy = np.array(trainy)\n",
    "weights = np.array([0.0, 0.0])\n",
    "# normalizing input data \n",
    "minmax = MinMaxScaler()\n",
    "trainx = minmax.fit_transform(trainx)\n",
    "print(\"******Training******\")\n",
    "for i in range(5):\n",
    "    print(f\"Epoch #{i}\")\n",
    "    weights = train_perceptron(trainx, weights, trainy)\n",
    "    print(f\"Weights after epoch {i}: {weights}\")\n",
    "    print(f\"Bias: {bias}\")\n",
    "print(\"\\n******Testing******\")\n",
    "print(\"Enter test data:\")\n",
    "testx = []\n",
    "for i in range(len(weights)):\n",
    "    e = float(input())\n",
    "    testx.append(e)\n",
    "testx = np.array([testx])\n",
    "testx = minmax.transform(testx)\n",
    "testx = testx.flatten()\n",
    "output = predict_class(testx, weights)\n",
    "if output == 1:\n",
    "    print(\"Predicted class: MALE\")\n",
    "else:\n",
    "    print(\"Predicted class: FEMALE\")"
   ]
  },
  {
   "cell_type": "code",
   "execution_count": null,
   "metadata": {},
   "outputs": [],
   "source": []
  }
 ],
 "metadata": {
  "kernelspec": {
   "display_name": "Python 3",
   "language": "python",
   "name": "python3"
  },
  "language_info": {
   "codemirror_mode": {
    "name": "ipython",
    "version": 3
   },
   "file_extension": ".py",
   "mimetype": "text/x-python",
   "name": "python",
   "nbconvert_exporter": "python",
   "pygments_lexer": "ipython3",
   "version": "3.8.3"
  }
 },
 "nbformat": 4,
 "nbformat_minor": 4
}
