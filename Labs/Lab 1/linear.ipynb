{
 "cells": [
  {
   "cell_type": "code",
   "execution_count": 1,
   "metadata": {},
   "outputs": [],
   "source": [
    "import numpy as np"
   ]
  },
  {
   "cell_type": "code",
   "execution_count": 3,
   "metadata": {},
   "outputs": [
    {
     "name": "stdout",
     "output_type": "stream",
     "text": [
      "Enter the inputs: \n",
      "\n",
      "x[1]: 1\n",
      "x[2]: 0.5\n",
      "n: [-0.5]\n",
      "Output: [-2.]\n"
     ]
    }
   ],
   "source": [
    "# a node to calculate the input for the actiovation function\n",
    "def node(w, x, b):\n",
    "    v = w * x\n",
    "    n = np.sum(v) + b\n",
    "    print(f\"n: {n}\")\n",
    "    return linear(n)\n",
    "\n",
    "# linear activation function\n",
    "def linear(n):\n",
    "    return (2 * n - 1)\n",
    "\n",
    "weights = np.array([1, 1]) # given in question\n",
    "bias = np.array([-2.0]) # given in question\n",
    "print(\"Enter the inputs: \\n\")\n",
    "inputs = [] # store inputs x1 and x2\n",
    "for i in range(2):\n",
    "    e = float(input(f\"x[{i+1}]: \"))\n",
    "    inputs.append(e)\n",
    "inputs = np.array(inputs) # input list into np.array\n",
    "output = node(weights, inputs, bias)\n",
    "print(f\"Output: {output}\")"
   ]
  },
  {
   "cell_type": "code",
   "execution_count": null,
   "metadata": {},
   "outputs": [],
   "source": []
  }
 ],
 "metadata": {
  "kernelspec": {
   "display_name": "Python 3",
   "language": "python",
   "name": "python3"
  },
  "language_info": {
   "codemirror_mode": {
    "name": "ipython",
    "version": 3
   },
   "file_extension": ".py",
   "mimetype": "text/x-python",
   "name": "python",
   "nbconvert_exporter": "python",
   "pygments_lexer": "ipython3",
   "version": "3.8.3"
  }
 },
 "nbformat": 4,
 "nbformat_minor": 4
}
