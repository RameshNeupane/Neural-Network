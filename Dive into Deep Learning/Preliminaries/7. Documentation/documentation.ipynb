{
 "metadata": {
  "language_info": {
   "codemirror_mode": {
    "name": "ipython",
    "version": 3
   },
   "file_extension": ".py",
   "mimetype": "text/x-python",
   "name": "python",
   "nbconvert_exporter": "python",
   "pygments_lexer": "ipython3",
   "version": "3.8.5"
  },
  "orig_nbformat": 4,
  "kernelspec": {
   "name": "python3",
   "display_name": "Python 3.8.5 64-bit"
  },
  "interpreter": {
   "hash": "31f2aee4e71d21fbe5cf8b01ff0e069b9275f58929596ceb00d14d90e3e16cd6"
  }
 },
 "nbformat": 4,
 "nbformat_minor": 2,
 "cells": [
  {
   "source": [
    "# Documentation"
   ],
   "cell_type": "markdown",
   "metadata": {}
  },
  {
   "source": [
    "### Finding All the Functions and Classes in a Module"
   ],
   "cell_type": "markdown",
   "metadata": {}
  },
  {
   "cell_type": "code",
   "execution_count": 1,
   "metadata": {},
   "outputs": [
    {
     "output_type": "execute_result",
     "data": {
      "text/plain": [
       "['Algorithm',\n",
       " 'Generator',\n",
       " '__builtins__',\n",
       " '__cached__',\n",
       " '__doc__',\n",
       " '__file__',\n",
       " '__loader__',\n",
       " '__name__',\n",
       " '__package__',\n",
       " '__path__',\n",
       " '__spec__',\n",
       " '_sys',\n",
       " 'all_candidate_sampler',\n",
       " 'categorical',\n",
       " 'create_rng_state',\n",
       " 'experimental',\n",
       " 'fixed_unigram_candidate_sampler',\n",
       " 'gamma',\n",
       " 'get_global_generator',\n",
       " 'learned_unigram_candidate_sampler',\n",
       " 'log_uniform_candidate_sampler',\n",
       " 'normal',\n",
       " 'poisson',\n",
       " 'set_global_generator',\n",
       " 'set_seed',\n",
       " 'shuffle',\n",
       " 'stateless_binomial',\n",
       " 'stateless_categorical',\n",
       " 'stateless_gamma',\n",
       " 'stateless_normal',\n",
       " 'stateless_parameterized_truncated_normal',\n",
       " 'stateless_poisson',\n",
       " 'stateless_truncated_normal',\n",
       " 'stateless_uniform',\n",
       " 'truncated_normal',\n",
       " 'uniform',\n",
       " 'uniform_candidate_sampler']"
      ]
     },
     "metadata": {},
     "execution_count": 1
    }
   ],
   "source": [
    "import tensorflow as tf \n",
    "dir(tf.random)"
   ]
  },
  {
   "source": [
    "### Finding the Usage of Specific Functions and Classes"
   ],
   "cell_type": "markdown",
   "metadata": {}
  },
  {
   "cell_type": "code",
   "execution_count": 2,
   "metadata": {},
   "outputs": [
    {
     "output_type": "stream",
     "name": "stdout",
     "text": [
      "Help on function ones in module tensorflow.python.ops.array_ops:\n\nones(shape, dtype=tf.float32, name=None)\n    Creates a tensor with all elements set to one (1).\n    \n    See also `tf.ones_like`, `tf.zeros`, `tf.fill`, `tf.eye`.\n    \n    This operation returns a tensor of type `dtype` with shape `shape` and\n    all elements set to one.\n    \n    >>> tf.ones([3, 4], tf.int32)\n    <tf.Tensor: shape=(3, 4), dtype=int32, numpy=\n    array([[1, 1, 1, 1],\n           [1, 1, 1, 1],\n           [1, 1, 1, 1]], dtype=int32)>\n    \n    Args:\n      shape: A `list` of integers, a `tuple` of integers, or\n        a 1-D `Tensor` of type `int32`.\n      dtype: Optional DType of an element in the resulting `Tensor`. Default is\n        `tf.float32`.\n      name: Optional string. A name for the operation.\n    \n    Returns:\n      A `Tensor` with all elements set to one (1).\n\n"
     ]
    }
   ],
   "source": [
    "help(tf.ones)"
   ]
  },
  {
   "cell_type": "code",
   "execution_count": 3,
   "metadata": {},
   "outputs": [
    {
     "output_type": "execute_result",
     "data": {
      "text/plain": [
       "<tf.Tensor: shape=(4, 4), dtype=float32, numpy=\n",
       "array([[1., 1., 1., 1.],\n",
       "       [1., 1., 1., 1.],\n",
       "       [1., 1., 1., 1.],\n",
       "       [1., 1., 1., 1.]], dtype=float32)>"
      ]
     },
     "metadata": {},
     "execution_count": 3
    }
   ],
   "source": [
    "tf.ones((4, 4))"
   ]
  },
  {
   "cell_type": "code",
   "execution_count": 4,
   "metadata": {},
   "outputs": [
    {
     "output_type": "stream",
     "text": [
      "\u001b[0;31mInit signature:\u001b[0m \u001b[0mlist\u001b[0m\u001b[0;34m(\u001b[0m\u001b[0miterable\u001b[0m\u001b[0;34m=\u001b[0m\u001b[0;34m(\u001b[0m\u001b[0;34m)\u001b[0m\u001b[0;34m,\u001b[0m \u001b[0;34m/\u001b[0m\u001b[0;34m)\u001b[0m\u001b[0;34m\u001b[0m\u001b[0;34m\u001b[0m\u001b[0m\n",
      "\u001b[0;31mDocstring:\u001b[0m     \n",
      "Built-in mutable sequence.\n",
      "\n",
      "If no argument is given, the constructor creates a new empty list.\n",
      "The argument must be an iterable if specified.\n",
      "\u001b[0;31mType:\u001b[0m           type\n",
      "\u001b[0;31mSubclasses:\u001b[0m     _HashedSeq, StackSummary, DeferredConfigList, SList, _ImmutableLineList, FormattedText, NodeList, _ExplodedList, Stack, _Accumulator, ...\n"
     ],
     "name": "stdout"
    }
   ],
   "source": [
    "list?"
   ]
  },
  {
   "cell_type": "code",
   "execution_count": 5,
   "metadata": {},
   "outputs": [
    {
     "output_type": "stream",
     "text": [
      "\u001b[0;31mInit signature:\u001b[0m \u001b[0mlist\u001b[0m\u001b[0;34m(\u001b[0m\u001b[0miterable\u001b[0m\u001b[0;34m=\u001b[0m\u001b[0;34m(\u001b[0m\u001b[0;34m)\u001b[0m\u001b[0;34m,\u001b[0m \u001b[0;34m/\u001b[0m\u001b[0;34m)\u001b[0m\u001b[0;34m\u001b[0m\u001b[0;34m\u001b[0m\u001b[0m\n",
      "\u001b[0;31mDocstring:\u001b[0m     \n",
      "Built-in mutable sequence.\n",
      "\n",
      "If no argument is given, the constructor creates a new empty list.\n",
      "The argument must be an iterable if specified.\n",
      "\u001b[0;31mType:\u001b[0m           type\n",
      "\u001b[0;31mSubclasses:\u001b[0m     _HashedSeq, StackSummary, DeferredConfigList, SList, _ImmutableLineList, FormattedText, NodeList, _ExplodedList, Stack, _Accumulator, ...\n"
     ],
     "name": "stdout"
    }
   ],
   "source": [
    "list??"
   ]
  },
  {
   "cell_type": "code",
   "execution_count": 6,
   "metadata": {},
   "outputs": [
    {
     "output_type": "execute_result",
     "data": {
      "text/plain": [
       "['LinearOperator',\n",
       " 'LinearOperatorAdjoint',\n",
       " 'LinearOperatorBlockDiag',\n",
       " 'LinearOperatorBlockLowerTriangular',\n",
       " 'LinearOperatorCirculant',\n",
       " 'LinearOperatorCirculant2D',\n",
       " 'LinearOperatorCirculant3D',\n",
       " 'LinearOperatorComposition',\n",
       " 'LinearOperatorDiag',\n",
       " 'LinearOperatorFullMatrix',\n",
       " 'LinearOperatorHouseholder',\n",
       " 'LinearOperatorIdentity',\n",
       " 'LinearOperatorInversion',\n",
       " 'LinearOperatorKronecker',\n",
       " 'LinearOperatorLowRankUpdate',\n",
       " 'LinearOperatorLowerTriangular',\n",
       " 'LinearOperatorPermutation',\n",
       " 'LinearOperatorScaledIdentity',\n",
       " 'LinearOperatorToeplitz',\n",
       " 'LinearOperatorTridiag',\n",
       " 'LinearOperatorZeros',\n",
       " '__builtins__',\n",
       " '__cached__',\n",
       " '__doc__',\n",
       " '__file__',\n",
       " '__loader__',\n",
       " '__name__',\n",
       " '__package__',\n",
       " '__path__',\n",
       " '__spec__',\n",
       " '_sys',\n",
       " 'adjoint',\n",
       " 'band_part',\n",
       " 'banded_triangular_solve',\n",
       " 'cholesky',\n",
       " 'cholesky_solve',\n",
       " 'cross',\n",
       " 'det',\n",
       " 'diag',\n",
       " 'diag_part',\n",
       " 'eig',\n",
       " 'eigh',\n",
       " 'eigvals',\n",
       " 'eigvalsh',\n",
       " 'einsum',\n",
       " 'experimental',\n",
       " 'expm',\n",
       " 'eye',\n",
       " 'global_norm',\n",
       " 'inv',\n",
       " 'l2_normalize',\n",
       " 'logdet',\n",
       " 'logm',\n",
       " 'lstsq',\n",
       " 'lu',\n",
       " 'lu_matrix_inverse',\n",
       " 'lu_reconstruct',\n",
       " 'lu_solve',\n",
       " 'matmul',\n",
       " 'matrix_rank',\n",
       " 'matrix_transpose',\n",
       " 'matvec',\n",
       " 'norm',\n",
       " 'normalize',\n",
       " 'pinv',\n",
       " 'qr',\n",
       " 'set_diag',\n",
       " 'slogdet',\n",
       " 'solve',\n",
       " 'sqrtm',\n",
       " 'svd',\n",
       " 'tensor_diag',\n",
       " 'tensor_diag_part',\n",
       " 'tensordot',\n",
       " 'trace',\n",
       " 'triangular_solve',\n",
       " 'tridiagonal_matmul',\n",
       " 'tridiagonal_solve']"
      ]
     },
     "metadata": {},
     "execution_count": 6
    }
   ],
   "source": [
    "dir(tf.linalg)"
   ]
  },
  {
   "cell_type": "code",
   "execution_count": 7,
   "metadata": {},
   "outputs": [
    {
     "output_type": "stream",
     "name": "stdout",
     "text": [
      "Help on package tensorflow._api.v2.linalg in tensorflow._api.v2:\n\nNAME\n    tensorflow._api.v2.linalg - Operations for linear algebra.\n\nPACKAGE CONTENTS\n    experimental (package)\n\nFILE\n    /usr/local/lib/python3.8/dist-packages/tensorflow/_api/v2/linalg/__init__.py\n\n\n"
     ]
    }
   ],
   "source": [
    "help(tf.linalg)"
   ]
  },
  {
   "cell_type": "code",
   "execution_count": 8,
   "metadata": {},
   "outputs": [
    {
     "output_type": "stream",
     "text": [
      "\u001b[0;31mSignature:\u001b[0m \u001b[0mtf\u001b[0m\u001b[0;34m.\u001b[0m\u001b[0mnorm\u001b[0m\u001b[0;34m(\u001b[0m\u001b[0mtensor\u001b[0m\u001b[0;34m,\u001b[0m \u001b[0mord\u001b[0m\u001b[0;34m=\u001b[0m\u001b[0;34m'euclidean'\u001b[0m\u001b[0;34m,\u001b[0m \u001b[0maxis\u001b[0m\u001b[0;34m=\u001b[0m\u001b[0;32mNone\u001b[0m\u001b[0;34m,\u001b[0m \u001b[0mkeepdims\u001b[0m\u001b[0;34m=\u001b[0m\u001b[0;32mNone\u001b[0m\u001b[0;34m,\u001b[0m \u001b[0mname\u001b[0m\u001b[0;34m=\u001b[0m\u001b[0;32mNone\u001b[0m\u001b[0;34m)\u001b[0m\u001b[0;34m\u001b[0m\u001b[0;34m\u001b[0m\u001b[0m\n",
      "\u001b[0;31mDocstring:\u001b[0m\n",
      "Computes the norm of vectors, matrices, and tensors.\n",
      "\n",
      "This function can compute several different vector norms (the 1-norm, the\n",
      "Euclidean or 2-norm, the inf-norm, and in general the p-norm for p > 0) and\n",
      "matrix norms (Frobenius, 1-norm, 2-norm and inf-norm).\n",
      "\n",
      "Args:\n",
      "  tensor: `Tensor` of types `float32`, `float64`, `complex64`, `complex128`\n",
      "  ord: Order of the norm. Supported values are `'fro'`, `'euclidean'`,\n",
      "    `1`, `2`, `np.inf` and any positive real number yielding the corresponding\n",
      "    p-norm. Default is `'euclidean'` which is equivalent to Frobenius norm if\n",
      "    `tensor` is a matrix and equivalent to 2-norm for vectors.\n",
      "    Some restrictions apply:\n",
      "      a) The Frobenius norm `'fro'` is not defined for vectors,\n",
      "      b) If axis is a 2-tuple (matrix norm), only `'euclidean'`, '`fro'`, `1`,\n",
      "         `2`, `np.inf` are supported.\n",
      "    See the description of `axis` on how to compute norms for a batch of\n",
      "    vectors or matrices stored in a tensor.\n",
      "  axis: If `axis` is `None` (the default), the input is considered a vector\n",
      "    and a single vector norm is computed over the entire set of values in the\n",
      "    tensor, i.e. `norm(tensor, ord=ord)` is equivalent to\n",
      "    `norm(reshape(tensor, [-1]), ord=ord)`.\n",
      "    If `axis` is a Python integer, the input is considered a batch of vectors,\n",
      "    and `axis` determines the axis in `tensor` over which to compute vector\n",
      "    norms.\n",
      "    If `axis` is a 2-tuple of Python integers it is considered a batch of\n",
      "    matrices and `axis` determines the axes in `tensor` over which to compute\n",
      "    a matrix norm.\n",
      "    Negative indices are supported. Example: If you are passing a tensor that\n",
      "    can be either a matrix or a batch of matrices at runtime, pass\n",
      "    `axis=[-2,-1]` instead of `axis=None` to make sure that matrix norms are\n",
      "    computed.\n",
      "  keepdims: If True, the axis indicated in `axis` are kept with size 1.\n",
      "    Otherwise, the dimensions in `axis` are removed from the output shape.\n",
      "  name: The name of the op.\n",
      "\n",
      "Returns:\n",
      "  output: A `Tensor` of the same type as tensor, containing the vector or\n",
      "    matrix norms. If `keepdims` is True then the rank of output is equal to\n",
      "    the rank of `tensor`. Otherwise, if `axis` is none the output is a scalar,\n",
      "    if `axis` is an integer, the rank of `output` is one less than the rank\n",
      "    of `tensor`, if `axis` is a 2-tuple the rank of `output` is two less\n",
      "    than the rank of `tensor`.\n",
      "\n",
      "Raises:\n",
      "  ValueError: If `ord` or `axis` is invalid.\n",
      "\n",
      "@compatibility(numpy)\n",
      "Mostly equivalent to numpy.linalg.norm.\n",
      "Not supported: ord <= 0, 2-norm for matrices, nuclear norm.\n",
      "Other differences:\n",
      "  a) If axis is `None`, treats the flattened `tensor` as a vector\n",
      "   regardless of rank.\n",
      "  b) Explicitly supports 'euclidean' norm as the default, including for\n",
      "   higher order tensors.\n",
      "@end_compatibility\n",
      "\u001b[0;31mFile:\u001b[0m      /usr/local/lib/python3.8/dist-packages/tensorflow/python/ops/linalg_ops.py\n",
      "\u001b[0;31mType:\u001b[0m      function\n"
     ],
     "name": "stdout"
    }
   ],
   "source": [
    "tf.norm?"
   ]
  },
  {
   "cell_type": "code",
   "execution_count": null,
   "metadata": {},
   "outputs": [],
   "source": []
  }
 ]
}